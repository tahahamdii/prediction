{
  "nbformat": 4,
  "nbformat_minor": 0,
  "metadata": {
    "colab": {
      "provenance": [],
      "toc_visible": true,
      "include_colab_link": true
    },
    "kernelspec": {
      "name": "python3",
      "display_name": "Python 3"
    },
    "language_info": {
      "name": "python"
    }
  },
  "cells": [
    {
      "cell_type": "markdown",
      "metadata": {
        "id": "view-in-github",
        "colab_type": "text"
      },
      "source": [
        "<a href=\"https://colab.research.google.com/github/tahahamdii/prediction/blob/main/web_srapping_workshop.ipynb\" target=\"_parent\"><img src=\"https://colab.research.google.com/assets/colab-badge.svg\" alt=\"Open In Colab\"/></a>"
      ]
    },
    {
      "cell_type": "code",
      "execution_count": 1,
      "metadata": {
        "id": "g-QsSrDtEtEe"
      },
      "outputs": [],
      "source": [
        "import requests\n",
        "from bs4 import BeautifulSoup\n",
        "import pandas as pd\n",
        "\n",
        "news_title_list,link_list,image_list,description_list,date_list,author_list=[],[],[],[],[],[]\n",
        "\n",
        "for i in range(1,3):\n",
        "\n",
        "\n",
        "# Envoyer une requête GET à la page\n",
        "  url = 'https://www.labiotech.eu/page/'+str(i)\n",
        "  response = requests.get(url)\n",
        "\n",
        "  if response.status_code != 200:\n",
        "      print(f\"Failed to retrieve page with status code: {response.status_code}\")\n",
        "\n",
        "  else:\n",
        "      # Analyser le contenu de la page avec BeautifulSoup\n",
        "      soup = BeautifulSoup(response.content, 'html.parser')\n",
        "\n",
        "\n",
        "\n",
        "      '''\n",
        "\n",
        "      à compléter\n",
        "\n",
        "      '''\n",
        "\n",
        "          #print('__________________________________________')\n",
        "\n",
        "\n",
        "\n",
        "\n"
      ]
    },
    {
      "cell_type": "code",
      "source": [
        "zipped=list(zip(news_title_list,link_list,image_list,description_list,date_list,author_list))\n",
        "articles = pd.DataFrame(zipped, columns = ['Title', 'Link','ImageURL','Description','Date','Author'])"
      ],
      "metadata": {
        "id": "_TvPICDyGRw5"
      },
      "execution_count": 2,
      "outputs": []
    },
    {
      "cell_type": "code",
      "source": [
        "struct_div = soup.find_all('article')"
      ],
      "metadata": {
        "id": "bffJmGaYl-mQ"
      },
      "execution_count": 3,
      "outputs": []
    },
    {
      "cell_type": "code",
      "source": [],
      "metadata": {
        "id": "U0WWpdPDmP70"
      },
      "execution_count": null,
      "outputs": []
    }
  ]
}
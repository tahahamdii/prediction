{
  "nbformat": 4,
  "nbformat_minor": 0,
  "metadata": {
    "colab": {
      "provenance": [],
      "toc_visible": true,
      "include_colab_link": true
    },
    "kernelspec": {
      "name": "python3",
      "display_name": "Python 3"
    },
    "language_info": {
      "name": "python"
    }
  },
  "cells": [
    {
      "cell_type": "markdown",
      "metadata": {
        "id": "view-in-github",
        "colab_type": "text"
      },
      "source": [
        "<a href=\"https://colab.research.google.com/github/tahahamdii/prediction/blob/main/web_srapping_workshop.ipynb\" target=\"_parent\"><img src=\"https://colab.research.google.com/assets/colab-badge.svg\" alt=\"Open In Colab\"/></a>"
      ]
    },
    {
      "cell_type": "code",
      "execution_count": 19,
      "metadata": {
        "id": "g-QsSrDtEtEe",
        "colab": {
          "base_uri": "https://localhost:8080/"
        },
        "outputId": "ecb11283-6052-4722-fa34-fe13ec2ab304"
      },
      "outputs": [
        {
          "output_type": "stream",
          "name": "stdout",
          "text": [
            "On its way to tackle cancer therapy resistance with its monoclonal antibody visugromab, CataLym completes a $150 million series D round.\n",
            "July 16, 2024\n",
            "German biotech raises $150M on its way to tackle cancer therapy resistance\n",
            "Listen to our conversation with Genfit, a late-stage biopharma tackling acute on-chronic liver failure.\n",
            "July 12, 2024\n",
            "How biotechs are revolutionizing acute on-chronic liver failure?\n",
            "As treatments for skeletal dysplasia are intended to alleviate painful symptoms, two drugs are battling out in the clinic to prove their effectiveness.\n",
            "July 10, 2024\n",
            "Biotech’s battle against skeletal dysplasia: Ray of hope for children with rare genetic disorder\n",
            "We take a look at seven biotech companies in Portugal, which is home to a rich biotech ecosystem that is rapidly growing.\n",
            "July 9, 2024\n",
            "The 7 biotech companies in Portugal you should know about in 2024\n",
            "Find out how the recent discovery of a molecular oddity found in bacteria has led to a new gene editing technique.\n",
            "July 8, 2024\n",
            "Bridge RNA: A new gene editing technique that could overcome the limitations of CRISPR\n",
            "Funding a biotech startup can be challenging. Delve into our guide to navigate this complicated investment landscape.\n",
            "July 5, 2024\n",
            "The ABC of biotech startup funding\n",
            "The field of radiotherapeutics is a hot topic currently. Listen to our conversation with three experts in the field.\n",
            "July 5, 2024\n",
            "The radiotherapeutics boom\n",
            "Rigorous research aims to  boost therapeutic options for people with Parkinson’s disease. What do biotechs have in store?\n",
            "July 4, 2024\n",
            "Parkinson’s disease: biotech’s pursuit for more therapies\n",
            "The companies Formation Bio, Isotopen Technologien München, and Marea Therapeutics bagged the biggest private biotech investments in June 2024.\n",
            "July 4, 2024\n",
            "The biggest private biotech investments in June 2024\n",
            "Endometriosis is a condition that has been rather difficult to treat with no cures to date. Recent advances could boost options for patients.\n",
            "July 3, 2024\n",
            "Endometriosis: How biotech is pioneering new patient options\n",
            "Explore key insights into the latest biotech industry trends based on our 2024 reader survey findings. Discover more now!\n",
            "July 3, 2024\n",
            "2024 survey: What can Labiotech readers tell us about the biotech industry?\n",
            "Switzerland is a booming biotech hotspot in Europe boasting many high-profile companies. Here are 18 promising Swiss biotech companies.\n",
            "July 2, 2024\n",
            "Swiss biotech going strong in 2024: 18 companies to put on your radar\n",
            "Listen to our conversation with Priovant Therapeutics, developing therapies for autoimmune diseases with high morbidity.\n",
            "June 28, 2024\n",
            "Priovant – finding treatments for autoimmune diseases\n",
            "Discover more about CRISPR-Cas13, including how it differs from CRISPR-Cas9 and what the technology can be used for.\n",
            "June 27, 2024\n",
            "CRISPR-Cas13: how does the technology compare to its famous Cas9 cousin?\n",
            "In this article, we take a look at eight much-anticipated drugs that have been approved by regulators so far this year.\n",
            "June 27, 2024\n",
            "The 2024 drug approval list: Eight new treatments you should know about\n",
            "Biotech and healtcare contributed to more than one out of three megadeals in 2024, find out the reasons behind it.\n",
            "June 26, 2024\n",
            "Biotech megadeals: Exploring the surge in $100M+ deals\n",
            "Delve into the biotech landscape of the state of Georgia and discover seven companies leading the charge in the industry.\n",
            "June 25, 2024\n",
            "Spotlight on Georgia’s biotech industry: Seven companies to know about in 2024\n",
            "Dive deeper into the world of M&A, as we take a look at some of the most prominent failed acquisitions of the last decade.\n",
            "June 24, 2024\n",
            "Troublesome acquisitions: when biotech M&A goes wrong\n",
            "Take a closer look at five biotechnology colleges in India offering courses that can lead to numerous opportunities for students.\n",
            "June 21, 2024\n",
            "Five biotechnology colleges in India cultivating future leaders\n",
            "Listen to our conversation with Heidelberg Pharma about its lead amanitin-based ADC product candidate, HDP-101.\n",
            "June 21, 2024\n",
            "How ADCs can deliver death cap mushroom toxins to treat cancer\n",
            "Driven by CASGEVY’s success, the CRISPR field is experiencing substantial growth with a new wave of companies.\n",
            "June 20, 2024\n",
            "CRISPR technology’s next wave: Eight companies to watch in 2024\n",
            "The first drug to treat MASH, a potentially life-threatening liver disease, was approved this year. More recent advancements bring hope to patients.\n",
            "June 19, 2024\n",
            "MASH candidates make a splash after first drug approval\n",
            "Take a look at five biotech companies in the Balkans spearheading the emerging biotech scene in the region.\n",
            "June 18, 2024\n",
            "5 companies spearheading the emerging biotech scene in the Balkans\n",
            "Discover strategies to overcome the challenges in advanced therapy development in Europe’s evolving biopharmaceutical landscape.\n",
            "June 18, 2024\n",
            "Overcoming obstacles as advanced therapies continue to evolve in Europe\n"
          ]
        }
      ],
      "source": [
        "import requests\n",
        "from bs4 import BeautifulSoup\n",
        "import pandas as pd\n",
        "\n",
        "news_title_list, link_list, image_list, description_list, date_list, author_list = [], [], [], [], [], []\n",
        "\n",
        "for i in range(1, 3):\n",
        "    # Envoyer une requête GET à la page\n",
        "    url = 'https://www.labiotech.eu/page/' + str(i)\n",
        "    response = requests.get(url)\n",
        "\n",
        "    if response.status_code != 200:\n",
        "        print(f\"Failed to retrieve page with status code: {response.status_code}\")\n",
        "    else:\n",
        "        # Analyser le contenu de la page avec BeautifulSoup\n",
        "        soup = BeautifulSoup(response.content, 'html.parser')\n",
        "\n",
        "        # Extracting the news articles\n",
        "        articles = soup.find_all('article')\n",
        "\n",
        "        for article in articles:\n",
        "            # Title and link\n",
        "            title_tag = article.find('h2')\n",
        "            title = title_tag.text.strip()\n",
        "            link = title_tag.find('a')['href']\n",
        "\n",
        "\n",
        "            description = article.find('div',{'class':'text-l-textgrey text-base mb-2 line-clamp-3'}).text.strip()\n",
        "            print(description)\n",
        "            description_list.append(description)\n",
        "            date = article.find('span',{'class':'flex-none hidden lg:inline text-l-black mr-2'}).text.strip()\n",
        "            print(date)\n",
        "            date_list.append(date)\n",
        "            print(title)\n",
        "\n",
        "    '''        # Date\n",
        "            date_tag = article.find('time', class_='entry-date')\n",
        "            date = date_tag['datetime'] if date_tag else None\n",
        "\n",
        "            # Author\n",
        "            author_tag = article.find('span', class_='author vcard')\n",
        "            author = author_tag.text.strip() if author_tag else None\n",
        "\n",
        "            # Append data to lists\n",
        "            news_title_list.append(title)\n",
        "            link_list.append(link)\n",
        "            date_list.append(date)\n",
        "            author_list.append(author)\n",
        "''''''\n",
        "# Creating DataFrame\n",
        "data = {\n",
        "    'Title': news_title_list,\n",
        "    'Link': link_list,\n",
        "    'Image': image_list,\n",
        "    'Description': description_list,\n",
        "    'Date': date_list,\n",
        "    'Author': author_list\n",
        "}\n",
        "df = pd.DataFrame(data)\n",
        "\n",
        "# Display the DataFrame\n",
        "print(df)\n",
        "'''"
      ]
    },
    {
      "cell_type": "code",
      "source": [
        "zipped=list(zip(news_title_list,link_list,image_list,description_list,date_list,author_list))\n",
        "articles = pd.DataFrame(zipped, columns = ['Title', 'Link','ImageURL','Description','Date','Author'])"
      ],
      "metadata": {
        "id": "_TvPICDyGRw5"
      },
      "execution_count": 2,
      "outputs": []
    },
    {
      "cell_type": "code",
      "source": [
        "struct_div = soup.find_all('article')"
      ],
      "metadata": {
        "id": "bffJmGaYl-mQ"
      },
      "execution_count": 3,
      "outputs": []
    },
    {
      "cell_type": "code",
      "source": [],
      "metadata": {
        "id": "U0WWpdPDmP70"
      },
      "execution_count": null,
      "outputs": []
    }
  ]
}
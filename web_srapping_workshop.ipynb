{
  "nbformat": 4,
  "nbformat_minor": 0,
  "metadata": {
    "colab": {
      "provenance": [],
      "toc_visible": true,
      "include_colab_link": true
    },
    "kernelspec": {
      "name": "python3",
      "display_name": "Python 3"
    },
    "language_info": {
      "name": "python"
    }
  },
  "cells": [
    {
      "cell_type": "markdown",
      "metadata": {
        "id": "view-in-github",
        "colab_type": "text"
      },
      "source": [
        "<a href=\"https://colab.research.google.com/github/tahahamdii/prediction/blob/main/web_srapping_workshop.ipynb\" target=\"_parent\"><img src=\"https://colab.research.google.com/assets/colab-badge.svg\" alt=\"Open In Colab\"/></a>"
      ]
    },
    {
      "cell_type": "code",
      "execution_count": 5,
      "metadata": {
        "id": "g-QsSrDtEtEe",
        "colab": {
          "base_uri": "https://localhost:8080/",
          "height": 211
        },
        "outputId": "21ac9703-ad91-4653-e3af-3571111668e1"
      },
      "outputs": [
        {
          "output_type": "error",
          "ename": "AttributeError",
          "evalue": "'NoneType' object has no attribute 'find'",
          "traceback": [
            "\u001b[0;31m---------------------------------------------------------------------------\u001b[0m",
            "\u001b[0;31mAttributeError\u001b[0m                            Traceback (most recent call last)",
            "\u001b[0;32m<ipython-input-5-401776d68d32>\u001b[0m in \u001b[0;36m<cell line: 7>\u001b[0;34m()\u001b[0m\n\u001b[1;32m     22\u001b[0m             \u001b[0;31m# Title and link\u001b[0m\u001b[0;34m\u001b[0m\u001b[0;34m\u001b[0m\u001b[0m\n\u001b[1;32m     23\u001b[0m             \u001b[0mtitle_tag\u001b[0m \u001b[0;34m=\u001b[0m \u001b[0marticle\u001b[0m\u001b[0;34m.\u001b[0m\u001b[0mfind\u001b[0m\u001b[0;34m(\u001b[0m\u001b[0;34m'h2'\u001b[0m\u001b[0;34m,\u001b[0m \u001b[0mclass_\u001b[0m\u001b[0;34m=\u001b[0m\u001b[0;34m'entry-title'\u001b[0m\u001b[0;34m)\u001b[0m\u001b[0;34m\u001b[0m\u001b[0;34m\u001b[0m\u001b[0m\n\u001b[0;32m---> 24\u001b[0;31m             \u001b[0mlink\u001b[0m \u001b[0;34m=\u001b[0m \u001b[0mtitle_tag\u001b[0m\u001b[0;34m.\u001b[0m\u001b[0mfind\u001b[0m\u001b[0;34m(\u001b[0m\u001b[0;34m'a'\u001b[0m\u001b[0;34m)\u001b[0m\u001b[0;34m[\u001b[0m\u001b[0;34m'href'\u001b[0m\u001b[0;34m]\u001b[0m\u001b[0;34m\u001b[0m\u001b[0;34m\u001b[0m\u001b[0m\n\u001b[0m\u001b[1;32m     25\u001b[0m \u001b[0;34m\u001b[0m\u001b[0m\n\u001b[1;32m     26\u001b[0m             \u001b[0;31m# Image\u001b[0m\u001b[0;34m\u001b[0m\u001b[0;34m\u001b[0m\u001b[0m\n",
            "\u001b[0;31mAttributeError\u001b[0m: 'NoneType' object has no attribute 'find'"
          ]
        }
      ],
      "source": [
        "import requests\n",
        "from bs4 import BeautifulSoup\n",
        "import pandas as pd\n",
        "\n",
        "news_title_list, link_list, image_list, description_list, date_list, author_list = [], [], [], [], [], []\n",
        "\n",
        "for i in range(1, 3):\n",
        "    # Envoyer une requête GET à la page\n",
        "    url = 'https://www.labiotech.eu/page/' + str(i)\n",
        "    response = requests.get(url)\n",
        "\n",
        "    if response.status_code != 200:\n",
        "        print(f\"Failed to retrieve page with status code: {response.status_code}\")\n",
        "    else:\n",
        "        # Analyser le contenu de la page avec BeautifulSoup\n",
        "        soup = BeautifulSoup(response.content, 'html.parser')\n",
        "\n",
        "        # Extracting the news articles\n",
        "        articles = soup.find_all('article')\n",
        "\n",
        "        for article in articles:\n",
        "            # Title and link\n",
        "            title_tag = article.find('h2', class_='entry-title')\n",
        "            link = title_tag.find('a')['href']\n",
        "\n",
        "            # Image\n",
        "            image_tag = article.find('img', class_='attachment-post-thumbnail')\n",
        "            image = image_tag['src'] if image_tag else None\n",
        "\n",
        "            # Description\n",
        "            description_tag = article.find('div', class_='entry-content')\n",
        "            description = description_tag.text.strip() if description_tag else None\n",
        "\n",
        "            # Date\n",
        "            date_tag = article.find('time', class_='entry-date')\n",
        "            date = date_tag['datetime'] if date_tag else None\n",
        "\n",
        "            # Author\n",
        "            author_tag = article.find('span', class_='author vcard')\n",
        "            author = author_tag.text.strip() if author_tag else None\n",
        "\n",
        "            # Append data to lists\n",
        "            news_title_list.append(title)\n",
        "            link_list.append(link)\n",
        "            image_list.append(image)\n",
        "            description_list.append(description)\n",
        "            date_list.append(date)\n",
        "            author_list.append(author)\n",
        "\n",
        "# Creating DataFrame\n",
        "data = {\n",
        "    'Title': news_title_list,\n",
        "    'Link': link_list,\n",
        "    'Image': image_list,\n",
        "    'Description': description_list,\n",
        "    'Date': date_list,\n",
        "    'Author': author_list\n",
        "}\n",
        "df = pd.DataFrame(data)\n",
        "\n",
        "# Display the DataFrame\n",
        "print(df)\n"
      ]
    },
    {
      "cell_type": "code",
      "source": [
        "zipped=list(zip(news_title_list,link_list,image_list,description_list,date_list,author_list))\n",
        "articles = pd.DataFrame(zipped, columns = ['Title', 'Link','ImageURL','Description','Date','Author'])"
      ],
      "metadata": {
        "id": "_TvPICDyGRw5"
      },
      "execution_count": 2,
      "outputs": []
    },
    {
      "cell_type": "code",
      "source": [
        "struct_div = soup.find_all('article')"
      ],
      "metadata": {
        "id": "bffJmGaYl-mQ"
      },
      "execution_count": 3,
      "outputs": []
    },
    {
      "cell_type": "code",
      "source": [],
      "metadata": {
        "id": "U0WWpdPDmP70"
      },
      "execution_count": null,
      "outputs": []
    }
  ]
}